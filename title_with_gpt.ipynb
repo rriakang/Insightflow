{
 "cells": [
  {
   "cell_type": "code",
   "execution_count": null,
   "metadata": {},
   "outputs": [],
   "source": [
    "import openai\n",
    "\n",
    "# OpenAI API 키 설정\n",
    "openai.api_key = \"\"\n",
    "\n",
    "def generate_news_title(news_content, model_name):\n",
    "    try:\n",
    "        # ChatGPT 3.5 API 호출\n",
    "        response = openai.ChatCompletion.create(\n",
    "            model=\"gpt-3.5-turbo\", # model_name\n",
    "            messages=[\n",
    "                {\"role\": \"system\", \"content\": \"You are a helpful assistant that creates concise and compelling news headlines based on the content provided.\"},\n",
    "                {\"role\": \"user\", \"content\": f\"Generate a news headline for the following content:\\n\\n{news_content}\"}\n",
    "            ],\n",
    "            # prompt=f\"Generate a news headline for the following content:\\n\\n{news_content}\\n\\n\",\n",
    "            temperature=0.7, # 제목의 창의성 조정.\n",
    "            max_tokens=50 # 제목 길이 제한.\n",
    "        )\n",
    "        \n",
    "        # 결과 추출\n",
    "        headline = response['choices'][0]['message']['content'].strip()\n",
    "        return headline\n",
    "    \n",
    "        # fine-tuned model 결과 추출 #######################################\n",
    "        # return response['choices'][0]['text'].strip()\n",
    "\n",
    "    except Exception as e:\n",
    "        print(f\"Error: {e}\")\n",
    "        return None\n",
    "\n",
    "\n",
    "if __name__ == \"__main__\":\n",
    "    \n",
    "    # Fine-tuned 모델 이름\n",
    "    fine_tuned_model = \"\"\n",
    "    \n",
    "    # 뉴스 내용 입력\n",
    "    news_content = \"\"\"\n",
    "    \n",
    "    \"\"\"\n",
    "    \n",
    "    # 뉴스 제목 생성\n",
    "    title = generate_news_title(news_content, fine_tuned_model)\n",
    "    \n",
    "    if title:\n",
    "        print(\"생성된 뉴스 제목:\")\n",
    "        print(title)\n",
    "    else:\n",
    "        print(\"뉴스 제목 생성에 실패했습니다.\")\n"
   ]
  }
 ],
 "metadata": {
  "kernelspec": {
   "display_name": "Python 3",
   "language": "python",
   "name": "python3"
  },
  "language_info": {
   "name": "python",
   "version": "3.11.9"
  }
 },
 "nbformat": 4,
 "nbformat_minor": 2
}
