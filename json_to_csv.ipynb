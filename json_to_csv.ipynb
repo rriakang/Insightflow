{
 "cells": [
  {
   "cell_type": "code",
   "execution_count": 1,
   "metadata": {},
   "outputs": [],
   "source": [
    "import zipfile\n",
    "from pathlib import Path\n",
    "import os\n",
    "# import Path\n",
    "import json\n",
    "import pandas as pd\n"
   ]
  },
  {
   "cell_type": "code",
   "execution_count": 36,
   "metadata": {},
   "outputs": [],
   "source": [
    "def unzip(path):\n",
    "    path_list = path.rglob('*.zip')\n",
    "    for paths in (path_list):\n",
    "        with zipfile.ZipFile(paths, 'r') as zip_ref:\n",
    "            zip_ref.extractall(str(paths)[:-4])\n",
    "            # print(str(zip_ref))\n",
    "        os.remove(zip_ref.filename)\n",
    "\n",
    "unzip(Path('../뉴스빅데이터해커톤_낚시성 기사 탐지 데이터'))\n",
    "\n"
   ]
  },
  {
   "cell_type": "code",
   "execution_count": 2,
   "metadata": {},
   "outputs": [],
   "source": [
    "def to_dataframe(path):\n",
    "    path_list = path.rglob('Validation/01.원천데이터/*')\n",
    "    df_columns = []\n",
    "    for paths in path_list:\n",
    "        json_path = paths.glob('*.json')\n",
    "        for j in json_path:\n",
    "            with open(j, encoding='utf-8') as json_file:\n",
    "                data = json.load(json_file)['sourceDataInfo']\n",
    "                df_columns.append(data)\n",
    "    df = pd.DataFrame(df_columns)\n",
    "    return df\n",
    "    \n",
    "df = to_dataframe(Path('../뉴스빅데이터해커톤_낚시성 기사 탐지 데이터'))\n",
    "df.to_csv('validation.csv')"
   ]
  }
 ],
 "metadata": {
  "kernelspec": {
   "display_name": "Python 3",
   "language": "python",
   "name": "python3"
  },
  "language_info": {
   "codemirror_mode": {
    "name": "ipython",
    "version": 3
   },
   "file_extension": ".py",
   "mimetype": "text/x-python",
   "name": "python",
   "nbconvert_exporter": "python",
   "pygments_lexer": "ipython3",
   "version": "3.11.9"
  }
 },
 "nbformat": 4,
 "nbformat_minor": 2
}
