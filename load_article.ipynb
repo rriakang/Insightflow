{
 "cells": [
  {
   "cell_type": "code",
   "execution_count": null,
   "metadata": {},
   "outputs": [],
   "source": [
    "import trafilatura\n",
    "\n",
    "# url = 'https://n.news.naver.com/article/052/0002106417?ntype=RANKING' # YTN; 네이버 / 네이버 뉴스 / naver.com\n",
    "# url = 'https://www.newsis.com/view/NISX20241028_0002935935' # 오동현 / 뉴시스 / newsis.com\n",
    "\n",
    "html = trafilatura.fetch_url(url)\n",
    "text = trafilatura.extract(html) #, output_format = \"json\")\n",
    "\n",
    "data = trafilatura.metadata.extract_metadata(html)\n",
    "\n",
    "print()\n",
    "\n",
    "print(data.author, data.sitename, data.hostname)\n",
    "print(data.categories)\n",
    "print(data.date,\"\\n\")\n",
    "print(data.title,\"\\n\")\n",
    "print(text,\"\\n\")\n",
    "\n"
   ]
  }
 ],
 "metadata": {
  "language_info": {
   "name": "python"
  }
 },
 "nbformat": 4,
 "nbformat_minor": 2
}
